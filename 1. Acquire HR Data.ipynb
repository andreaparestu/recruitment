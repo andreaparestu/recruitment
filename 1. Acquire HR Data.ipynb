{
 "cells": [
  {
   "cell_type": "markdown",
   "metadata": {},
   "source": [
    "#  <p style=\"text-align: center;\">Modul 1\n",
    "##  <p style=\"text-align: center;\">Acquire HR Data\n",
    "### <p style=\"text-align: center;\"> Human Capital Data Science (HCDS)"
   ]
  },
  {
   "cell_type": "markdown",
   "metadata": {},
   "source": [
    "## Tujuan Pembelajaran\n",
    "\n",
    "Pada pembelajaran *case study project* bagian ini akan dijelaskan mengenai contoh kasus *Machine Learning* yang menggunakan ***Binary Classsification Algorithm*** menggunakan *Pyhton Programming* yang dipaparkan langkah demi langkah sesuai *machine Learning Process*, yaitu: ***Acquire - Prepare - Analyze - Deploy*** atau dapat disingkat **(APAD)**. \n",
    "\n",
    "Dalam pembelajaran ini akan dijelaskan mengenai:\n",
    "- Bagaimana cara memecahkan masalah Supervised Machine Learning - *Binary Classification Algortihm*.\n",
    "- Bagaimana melakukan **transformasi data** untuk meningkatkan kinerja algoritma *machine learning* yang digunakan.\n",
    "- Bagaimana menggunakan ***tuning*** algoritma untuk meningkatkan kinerja algoritma *machine learning* yang digunakan."
   ]
  },
  {
   "cell_type": "markdown",
   "metadata": {},
   "source": [
    "# 1.1. Problem Definition\n",
    "\n",
    "Dalam *Case Study Project* ini akan ditunjukkan mengenai  bagaimana memprediksi kecenderungan karyawan yang akan mengundurkan diri.\n",
    "\n",
    "Dataset yang digunakan dalam *project predictive employee retention* ini adalah data demography dan kinerja karyawan pada tahun terakhir dari sebuah perusahaan.  \n",
    "\n",
    "Setelah diperoleh hasil prediksi perilaku retensi karyawan pada setiap departement, sehingga tim *Human Capital Management dan Human Resources Development* dapat mengantisipasi kondisi tersebut ketika terjari, misalnya mempersiapkan regenerasi berikutnya.  \n",
    "\n",
    "#### Data HR\n",
    "Dalam Dataset *datahr.csv* terdapat beberapa informasi mengenai: \n",
    "- **Kepuasan_kerja**: Tingkat kepuasan karyawan terhadap pekerjaan saat ini. \n",
    "- **Evaluasi**: Evaluasi kinerja karyawan di tahun terakhir.  \n",
    "- **Proyek**: Jumlah proyek yang dikerjakan pada tahun terakhir. \n",
    "- **Kerja_bulanan**: Rata-rata jam bekerja karyawan pada tahun terakhir. \n",
    "- **Durasi_kerja**: Jumlah tahun bekerja karyawan selama di perusahaan. \n",
    "- **Kecelakanaan_kerja**: Jumlah kecelakaan yang dialami oleh karyawan saat bekerja dalam 1 tahun terakhir. \n",
    "- **Promosi**: Kejadian Promosi Jabatan kerja pada tahun terakhir.\n",
    "- **Divisi**: Divisi Kerja karyawan, dengan keterangan tim:\n",
    "- 1: Sales, 2: Accounting, 3: HR, 4: IT, 5: Manajemen, 6: Marketing, 7: Manajemen Produk, 8: R&D, 9: Support, 10: Technical\n",
    "\n",
    "- **Gaji**: Kategori gaji karyawan, dengan keterangan sebagai berikut:\n",
    "1 - Rendah: Gaji di bawah 5 juta per bulan; \n",
    "2 - Sedang: Gaji antara 5 - 10 juta per bulan; \n",
    "3 - Tinggi: Gaji di atas 10 juta per bulan."
   ]
  },
  {
   "cell_type": "markdown",
   "metadata": {},
   "source": [
    "# 1.2. Load Dataset HC \n",
    "Dalam project ini akan dilakukan pemuatan dataset *(load dataset)* yang diperlukan dalam proses analisa data pada bagian berikutnya. \n",
    "Pemuatan dataset *datahr.csv* dengan menggunakan salah satu fungsi *Panda*, yaitu ***pd.read_csv*** seperti berikut ini: "
   ]
  },
  {
   "cell_type": "code",
   "execution_count": 2,
   "metadata": {},
   "outputs": [
    {
     "data": {
      "text/html": [
       "<div>\n",
       "<style scoped>\n",
       "    .dataframe tbody tr th:only-of-type {\n",
       "        vertical-align: middle;\n",
       "    }\n",
       "\n",
       "    .dataframe tbody tr th {\n",
       "        vertical-align: top;\n",
       "    }\n",
       "\n",
       "    .dataframe thead th {\n",
       "        text-align: right;\n",
       "    }\n",
       "</style>\n",
       "<table border=\"1\" class=\"dataframe\">\n",
       "  <thead>\n",
       "    <tr style=\"text-align: right;\">\n",
       "      <th></th>\n",
       "      <th>jenis_kelamin</th>\n",
       "      <th>umur</th>\n",
       "      <th>asal</th>\n",
       "      <th>penempatan</th>\n",
       "      <th>gaji</th>\n",
       "      <th>pendidikan</th>\n",
       "      <th>IPK</th>\n",
       "      <th>pengalaman</th>\n",
       "      <th>jenis_rekrut</th>\n",
       "      <th>id</th>\n",
       "      <th>status_rekrut</th>\n",
       "    </tr>\n",
       "  </thead>\n",
       "  <tbody>\n",
       "    <tr>\n",
       "      <th>0</th>\n",
       "      <td>1</td>\n",
       "      <td>1</td>\n",
       "      <td>2</td>\n",
       "      <td>2</td>\n",
       "      <td>3</td>\n",
       "      <td>1</td>\n",
       "      <td>3.31</td>\n",
       "      <td>4</td>\n",
       "      <td>2</td>\n",
       "      <td>1</td>\n",
       "      <td>1</td>\n",
       "    </tr>\n",
       "    <tr>\n",
       "      <th>1</th>\n",
       "      <td>0</td>\n",
       "      <td>3</td>\n",
       "      <td>19</td>\n",
       "      <td>13</td>\n",
       "      <td>4</td>\n",
       "      <td>0</td>\n",
       "      <td>1.18</td>\n",
       "      <td>5</td>\n",
       "      <td>2</td>\n",
       "      <td>2</td>\n",
       "      <td>0</td>\n",
       "    </tr>\n",
       "    <tr>\n",
       "      <th>2</th>\n",
       "      <td>1</td>\n",
       "      <td>1</td>\n",
       "      <td>15</td>\n",
       "      <td>8</td>\n",
       "      <td>5</td>\n",
       "      <td>0</td>\n",
       "      <td>1.59</td>\n",
       "      <td>5</td>\n",
       "      <td>1</td>\n",
       "      <td>3</td>\n",
       "      <td>0</td>\n",
       "    </tr>\n",
       "    <tr>\n",
       "      <th>3</th>\n",
       "      <td>1</td>\n",
       "      <td>2</td>\n",
       "      <td>14</td>\n",
       "      <td>14</td>\n",
       "      <td>2</td>\n",
       "      <td>2</td>\n",
       "      <td>3.48</td>\n",
       "      <td>3</td>\n",
       "      <td>2</td>\n",
       "      <td>4</td>\n",
       "      <td>1</td>\n",
       "    </tr>\n",
       "    <tr>\n",
       "      <th>4</th>\n",
       "      <td>1</td>\n",
       "      <td>1</td>\n",
       "      <td>21</td>\n",
       "      <td>21</td>\n",
       "      <td>1</td>\n",
       "      <td>1</td>\n",
       "      <td>3.20</td>\n",
       "      <td>1</td>\n",
       "      <td>1</td>\n",
       "      <td>5</td>\n",
       "      <td>1</td>\n",
       "    </tr>\n",
       "  </tbody>\n",
       "</table>\n",
       "</div>"
      ],
      "text/plain": [
       "   jenis_kelamin  umur  asal  penempatan  gaji  pendidikan   IPK  pengalaman  \\\n",
       "0              1     1     2           2     3           1  3.31           4   \n",
       "1              0     3    19          13     4           0  1.18           5   \n",
       "2              1     1    15           8     5           0  1.59           5   \n",
       "3              1     2    14          14     2           2  3.48           3   \n",
       "4              1     1    21          21     1           1  3.20           1   \n",
       "\n",
       "   jenis_rekrut  id  status_rekrut  \n",
       "0             2   1              1  \n",
       "1             2   2              0  \n",
       "2             1   3              0  \n",
       "3             2   4              1  \n",
       "4             1   5              1  "
      ]
     },
     "execution_count": 2,
     "metadata": {},
     "output_type": "execute_result"
    }
   ],
   "source": [
    "# Load Library\n",
    "import pandas as pd\n",
    "from pandas import read_csv\n",
    "\n",
    "# Load dataset\n",
    "dataset = pd.read_csv(\"oldRecruitment.csv\")\n",
    "dataset.head()"
   ]
  },
  {
   "cell_type": "markdown",
   "metadata": {},
   "source": [
    "# 1.3. Summarize Data\n",
    "Pada bagian ini akan dijelaskan mengenai analisa dari dataset *datahr.csv*. Dalam penggunaan data diperlukan menghindari penggunaan data yang memiliki ciri-ciri ***CISM*** sebagai berikut.\n",
    "\n",
    "- ***Correlation (C)***: mengukur korelasi linear antara kolom data dan kolom target. Hal ini hanya diperlukan saat mengerjakan project yang bersifat \"Prediktif\".\n",
    "- ***ID-ness (I)***: mengukur sejauh mana Atribut ini menyerupai ID. Jumlah nilai yang berbeda untuk Atribut dibagi dengan jumlah baris data.\n",
    "- ***Stability (S)***: mengukur seberapa stabil atau konstan kolom ini. Jumlah baris dengan nilai non-missing yang paling sering dibagi dengan jumlah total baris data dengan nilai yang tidak hilang.\n",
    "- ***Missing (M)***: jumlah nilai yang hilang di kolom ini sebagai pecahan dari jumlah total baris data.\n",
    "\n",
    "Contoh yang perlu diexplore adalah: Correlation, General Trends, dan Outliers. Visualisasi data yang telah dilakukan pada bab sebelumnya, juga diperlukan untuk mempermudah eksplorasi data, seperti penggunaan Histogram, Line Graph, Heat Maps, Scatter Plot, dan Boxplot. Pada umumnya, penghapusan variable sebaiknya pada variable dengan tingkat CISM tertinggi.\n",
    "\n",
    "\n",
    "## 1.3.1. Descriptive Statistics\n",
    "Analisa awal dimulai dengan melihat ukuran atau dimensi dataset, yaitu jumlah baris dan kolom.\n",
    "\n",
    "\n",
    "### Data Dimension\n",
    "Pada dataset *datahr.csv* terlihat ada 11.990 data karyawan yang memiliki 10 *input variable* termasuk ***target variable Status***. "
   ]
  },
  {
   "cell_type": "code",
   "execution_count": 9,
   "metadata": {},
   "outputs": [
    {
     "data": {
      "text/plain": [
       "(11990, 10)"
      ]
     },
     "execution_count": 9,
     "metadata": {},
     "output_type": "execute_result"
    }
   ],
   "source": [
    "# Shape\n",
    "dataset.shape"
   ]
  },
  {
   "cell_type": "code",
   "execution_count": 12,
   "metadata": {},
   "outputs": [
    {
     "name": "stdout",
     "output_type": "stream",
     "text": [
      "gaji\n",
      "1    5718\n",
      "2    5229\n",
      "3    1043\n",
      "dtype: int64\n"
     ]
    }
   ],
   "source": [
    "# Distribusi berdasarkan Gaji\n",
    "print(dataset.groupby('gaji').size())"
   ]
  },
  {
   "cell_type": "code",
   "execution_count": 11,
   "metadata": {},
   "outputs": [
    {
     "name": "stdout",
     "output_type": "stream",
     "text": [
      "divisi\n",
      "1     3262\n",
      "2      602\n",
      "3      576\n",
      "4     2222\n",
      "5     1785\n",
      "6      541\n",
      "7      967\n",
      "8      722\n",
      "9      670\n",
      "10     643\n",
      "dtype: int64\n"
     ]
    }
   ],
   "source": [
    "# Distribution based on Division\n",
    "print(dataset.groupby('divisi').size())"
   ]
  },
  {
   "cell_type": "code",
   "execution_count": 13,
   "metadata": {
    "scrolled": true
   },
   "outputs": [
    {
     "name": "stdout",
     "output_type": "stream",
     "text": [
      "status\n",
      "0    9949\n",
      "1    2041\n",
      "dtype: int64\n"
     ]
    }
   ],
   "source": [
    "# Class Distribution Data\n",
    "print(dataset.groupby('status').size())"
   ]
  },
  {
   "cell_type": "code",
   "execution_count": 14,
   "metadata": {},
   "outputs": [
    {
     "data": {
      "text/plain": [
       "kepuasan_kerja      float64\n",
       "evaluasi            float64\n",
       "proyek                int64\n",
       "kerja_bulanan         int64\n",
       "durasi_kerja          int64\n",
       "kecelakaan_kerja      int64\n",
       "promosi               int64\n",
       "divisi                int64\n",
       "gaji                  int64\n",
       "status                int64\n",
       "dtype: object"
      ]
     },
     "execution_count": 14,
     "metadata": {},
     "output_type": "execute_result"
    }
   ],
   "source": [
    "# Data Type\n",
    "dataset.dtypes"
   ]
  },
  {
   "cell_type": "markdown",
   "metadata": {},
   "source": [
    "#### Head of Data\n",
    "Kita dapat melihat secara garis besar mengenai isi dari dataset yang akan dianalisa dengan melihat beberapa baris data pertama. \n",
    "Untuk dapat memunculkan beberapa baris data, kita dapat menggunakan command *[nama.dataset].**head**([jumlah.baris])* seperti contoh berikut: "
   ]
  },
  {
   "cell_type": "code",
   "execution_count": 16,
   "metadata": {
    "scrolled": true
   },
   "outputs": [
    {
     "data": {
      "text/html": [
       "<div>\n",
       "<style scoped>\n",
       "    .dataframe tbody tr th:only-of-type {\n",
       "        vertical-align: middle;\n",
       "    }\n",
       "\n",
       "    .dataframe tbody tr th {\n",
       "        vertical-align: top;\n",
       "    }\n",
       "\n",
       "    .dataframe thead th {\n",
       "        text-align: right;\n",
       "    }\n",
       "</style>\n",
       "<table border=\"1\" class=\"dataframe\">\n",
       "  <thead>\n",
       "    <tr style=\"text-align: right;\">\n",
       "      <th></th>\n",
       "      <th>kepuasan_kerja</th>\n",
       "      <th>evaluasi</th>\n",
       "      <th>proyek</th>\n",
       "      <th>kerja_bulanan</th>\n",
       "      <th>durasi_kerja</th>\n",
       "      <th>kecelakaan_kerja</th>\n",
       "      <th>promosi</th>\n",
       "      <th>divisi</th>\n",
       "      <th>gaji</th>\n",
       "      <th>status</th>\n",
       "    </tr>\n",
       "  </thead>\n",
       "  <tbody>\n",
       "    <tr>\n",
       "      <th>0</th>\n",
       "      <td>0.80</td>\n",
       "      <td>0.86</td>\n",
       "      <td>5</td>\n",
       "      <td>262</td>\n",
       "      <td>6</td>\n",
       "      <td>0</td>\n",
       "      <td>0</td>\n",
       "      <td>1</td>\n",
       "      <td>2</td>\n",
       "      <td>1</td>\n",
       "    </tr>\n",
       "    <tr>\n",
       "      <th>1</th>\n",
       "      <td>0.11</td>\n",
       "      <td>0.88</td>\n",
       "      <td>7</td>\n",
       "      <td>272</td>\n",
       "      <td>4</td>\n",
       "      <td>0</td>\n",
       "      <td>0</td>\n",
       "      <td>1</td>\n",
       "      <td>2</td>\n",
       "      <td>1</td>\n",
       "    </tr>\n",
       "    <tr>\n",
       "      <th>2</th>\n",
       "      <td>0.72</td>\n",
       "      <td>0.87</td>\n",
       "      <td>5</td>\n",
       "      <td>223</td>\n",
       "      <td>5</td>\n",
       "      <td>0</td>\n",
       "      <td>0</td>\n",
       "      <td>1</td>\n",
       "      <td>1</td>\n",
       "      <td>1</td>\n",
       "    </tr>\n",
       "    <tr>\n",
       "      <th>3</th>\n",
       "      <td>0.10</td>\n",
       "      <td>0.77</td>\n",
       "      <td>6</td>\n",
       "      <td>247</td>\n",
       "      <td>4</td>\n",
       "      <td>0</td>\n",
       "      <td>0</td>\n",
       "      <td>1</td>\n",
       "      <td>1</td>\n",
       "      <td>1</td>\n",
       "    </tr>\n",
       "    <tr>\n",
       "      <th>4</th>\n",
       "      <td>0.92</td>\n",
       "      <td>0.85</td>\n",
       "      <td>5</td>\n",
       "      <td>259</td>\n",
       "      <td>5</td>\n",
       "      <td>0</td>\n",
       "      <td>0</td>\n",
       "      <td>1</td>\n",
       "      <td>1</td>\n",
       "      <td>1</td>\n",
       "    </tr>\n",
       "    <tr>\n",
       "      <th>5</th>\n",
       "      <td>0.89</td>\n",
       "      <td>1.00</td>\n",
       "      <td>5</td>\n",
       "      <td>224</td>\n",
       "      <td>5</td>\n",
       "      <td>0</td>\n",
       "      <td>0</td>\n",
       "      <td>1</td>\n",
       "      <td>1</td>\n",
       "      <td>1</td>\n",
       "    </tr>\n",
       "    <tr>\n",
       "      <th>6</th>\n",
       "      <td>0.11</td>\n",
       "      <td>0.81</td>\n",
       "      <td>6</td>\n",
       "      <td>305</td>\n",
       "      <td>4</td>\n",
       "      <td>0</td>\n",
       "      <td>0</td>\n",
       "      <td>1</td>\n",
       "      <td>1</td>\n",
       "      <td>1</td>\n",
       "    </tr>\n",
       "    <tr>\n",
       "      <th>7</th>\n",
       "      <td>0.84</td>\n",
       "      <td>0.92</td>\n",
       "      <td>4</td>\n",
       "      <td>234</td>\n",
       "      <td>5</td>\n",
       "      <td>0</td>\n",
       "      <td>0</td>\n",
       "      <td>1</td>\n",
       "      <td>1</td>\n",
       "      <td>1</td>\n",
       "    </tr>\n",
       "    <tr>\n",
       "      <th>8</th>\n",
       "      <td>0.78</td>\n",
       "      <td>0.99</td>\n",
       "      <td>4</td>\n",
       "      <td>255</td>\n",
       "      <td>6</td>\n",
       "      <td>0</td>\n",
       "      <td>0</td>\n",
       "      <td>1</td>\n",
       "      <td>1</td>\n",
       "      <td>1</td>\n",
       "    </tr>\n",
       "    <tr>\n",
       "      <th>9</th>\n",
       "      <td>0.76</td>\n",
       "      <td>0.89</td>\n",
       "      <td>5</td>\n",
       "      <td>262</td>\n",
       "      <td>5</td>\n",
       "      <td>0</td>\n",
       "      <td>0</td>\n",
       "      <td>1</td>\n",
       "      <td>1</td>\n",
       "      <td>1</td>\n",
       "    </tr>\n",
       "  </tbody>\n",
       "</table>\n",
       "</div>"
      ],
      "text/plain": [
       "   kepuasan_kerja  evaluasi  proyek  kerja_bulanan  durasi_kerja  \\\n",
       "0            0.80      0.86       5            262             6   \n",
       "1            0.11      0.88       7            272             4   \n",
       "2            0.72      0.87       5            223             5   \n",
       "3            0.10      0.77       6            247             4   \n",
       "4            0.92      0.85       5            259             5   \n",
       "5            0.89      1.00       5            224             5   \n",
       "6            0.11      0.81       6            305             4   \n",
       "7            0.84      0.92       4            234             5   \n",
       "8            0.78      0.99       4            255             6   \n",
       "9            0.76      0.89       5            262             5   \n",
       "\n",
       "   kecelakaan_kerja  promosi  divisi  gaji  status  \n",
       "0                 0        0       1     2       1  \n",
       "1                 0        0       1     2       1  \n",
       "2                 0        0       1     1       1  \n",
       "3                 0        0       1     1       1  \n",
       "4                 0        0       1     1       1  \n",
       "5                 0        0       1     1       1  \n",
       "6                 0        0       1     1       1  \n",
       "7                 0        0       1     1       1  \n",
       "8                 0        0       1     1       1  \n",
       "9                 0        0       1     1       1  "
      ]
     },
     "execution_count": 16,
     "metadata": {},
     "output_type": "execute_result"
    }
   ],
   "source": [
    "# Head of Data\n",
    "dataset.head(10)"
   ]
  },
  {
   "cell_type": "markdown",
   "metadata": {},
   "source": [
    "#### Data Describe\n",
    "Untuk dapat mengerti data yang akan dianalisa, kita dapat melihat deskripsi dari setiap varible yang ada dalam dataset tersebut. \n",
    "\n",
    "Kita dapat menggunakan command *print([nama.dataset].**describe**([jumlah.baris]))* untuk memunculkan beberapa informasi dari setiap variable,  "
   ]
  },
  {
   "cell_type": "code",
   "execution_count": 20,
   "metadata": {
    "scrolled": true
   },
   "outputs": [
    {
     "data": {
      "text/html": [
       "<div>\n",
       "<style scoped>\n",
       "    .dataframe tbody tr th:only-of-type {\n",
       "        vertical-align: middle;\n",
       "    }\n",
       "\n",
       "    .dataframe tbody tr th {\n",
       "        vertical-align: top;\n",
       "    }\n",
       "\n",
       "    .dataframe thead th {\n",
       "        text-align: right;\n",
       "    }\n",
       "</style>\n",
       "<table border=\"1\" class=\"dataframe\">\n",
       "  <thead>\n",
       "    <tr style=\"text-align: right;\">\n",
       "      <th></th>\n",
       "      <th>kepuasan_kerja</th>\n",
       "      <th>evaluasi</th>\n",
       "      <th>proyek</th>\n",
       "      <th>kerja_bulanan</th>\n",
       "      <th>durasi_kerja</th>\n",
       "      <th>kecelakaan_kerja</th>\n",
       "      <th>promosi</th>\n",
       "      <th>divisi</th>\n",
       "      <th>gaji</th>\n",
       "      <th>status</th>\n",
       "    </tr>\n",
       "  </thead>\n",
       "  <tbody>\n",
       "    <tr>\n",
       "      <th>count</th>\n",
       "      <td>11990.00</td>\n",
       "      <td>11990.00</td>\n",
       "      <td>11990.00</td>\n",
       "      <td>11990.00</td>\n",
       "      <td>11990.00</td>\n",
       "      <td>11990.00</td>\n",
       "      <td>11990.00</td>\n",
       "      <td>11990.00</td>\n",
       "      <td>11990.00</td>\n",
       "      <td>11990.00</td>\n",
       "    </tr>\n",
       "    <tr>\n",
       "      <th>mean</th>\n",
       "      <td>0.64</td>\n",
       "      <td>0.76</td>\n",
       "      <td>4.16</td>\n",
       "      <td>213.73</td>\n",
       "      <td>3.59</td>\n",
       "      <td>0.15</td>\n",
       "      <td>0.02</td>\n",
       "      <td>4.36</td>\n",
       "      <td>1.61</td>\n",
       "      <td>0.17</td>\n",
       "    </tr>\n",
       "    <tr>\n",
       "      <th>std</th>\n",
       "      <td>0.26</td>\n",
       "      <td>0.16</td>\n",
       "      <td>1.10</td>\n",
       "      <td>47.02</td>\n",
       "      <td>1.52</td>\n",
       "      <td>0.36</td>\n",
       "      <td>0.15</td>\n",
       "      <td>2.81</td>\n",
       "      <td>0.64</td>\n",
       "      <td>0.38</td>\n",
       "    </tr>\n",
       "    <tr>\n",
       "      <th>min</th>\n",
       "      <td>0.09</td>\n",
       "      <td>0.36</td>\n",
       "      <td>2.00</td>\n",
       "      <td>96.00</td>\n",
       "      <td>2.00</td>\n",
       "      <td>0.00</td>\n",
       "      <td>0.00</td>\n",
       "      <td>1.00</td>\n",
       "      <td>1.00</td>\n",
       "      <td>0.00</td>\n",
       "    </tr>\n",
       "    <tr>\n",
       "      <th>25%</th>\n",
       "      <td>0.51</td>\n",
       "      <td>0.63</td>\n",
       "      <td>3.00</td>\n",
       "      <td>175.00</td>\n",
       "      <td>3.00</td>\n",
       "      <td>0.00</td>\n",
       "      <td>0.00</td>\n",
       "      <td>1.00</td>\n",
       "      <td>1.00</td>\n",
       "      <td>0.00</td>\n",
       "    </tr>\n",
       "    <tr>\n",
       "      <th>50%</th>\n",
       "      <td>0.69</td>\n",
       "      <td>0.78</td>\n",
       "      <td>4.00</td>\n",
       "      <td>220.00</td>\n",
       "      <td>3.00</td>\n",
       "      <td>0.00</td>\n",
       "      <td>0.00</td>\n",
       "      <td>4.00</td>\n",
       "      <td>2.00</td>\n",
       "      <td>0.00</td>\n",
       "    </tr>\n",
       "    <tr>\n",
       "      <th>75%</th>\n",
       "      <td>0.84</td>\n",
       "      <td>0.89</td>\n",
       "      <td>5.00</td>\n",
       "      <td>253.00</td>\n",
       "      <td>4.00</td>\n",
       "      <td>0.00</td>\n",
       "      <td>0.00</td>\n",
       "      <td>7.00</td>\n",
       "      <td>2.00</td>\n",
       "      <td>0.00</td>\n",
       "    </tr>\n",
       "    <tr>\n",
       "      <th>max</th>\n",
       "      <td>1.00</td>\n",
       "      <td>1.00</td>\n",
       "      <td>7.00</td>\n",
       "      <td>310.00</td>\n",
       "      <td>10.00</td>\n",
       "      <td>1.00</td>\n",
       "      <td>1.00</td>\n",
       "      <td>10.00</td>\n",
       "      <td>3.00</td>\n",
       "      <td>1.00</td>\n",
       "    </tr>\n",
       "  </tbody>\n",
       "</table>\n",
       "</div>"
      ],
      "text/plain": [
       "       kepuasan_kerja  evaluasi    proyek  kerja_bulanan  durasi_kerja  \\\n",
       "count        11990.00  11990.00  11990.00       11990.00      11990.00   \n",
       "mean             0.64      0.76      4.16         213.73          3.59   \n",
       "std              0.26      0.16      1.10          47.02          1.52   \n",
       "min              0.09      0.36      2.00          96.00          2.00   \n",
       "25%              0.51      0.63      3.00         175.00          3.00   \n",
       "50%              0.69      0.78      4.00         220.00          3.00   \n",
       "75%              0.84      0.89      5.00         253.00          4.00   \n",
       "max              1.00      1.00      7.00         310.00         10.00   \n",
       "\n",
       "       kecelakaan_kerja   promosi    divisi      gaji    status  \n",
       "count          11990.00  11990.00  11990.00  11990.00  11990.00  \n",
       "mean               0.15      0.02      4.36      1.61      0.17  \n",
       "std                0.36      0.15      2.81      0.64      0.38  \n",
       "min                0.00      0.00      1.00      1.00      0.00  \n",
       "25%                0.00      0.00      1.00      1.00      0.00  \n",
       "50%                0.00      0.00      4.00      2.00      0.00  \n",
       "75%                0.00      0.00      7.00      2.00      0.00  \n",
       "max                1.00      1.00     10.00      3.00      1.00  "
      ]
     },
     "execution_count": 20,
     "metadata": {},
     "output_type": "execute_result"
    }
   ],
   "source": [
    "# Description Data\n",
    "dataset.describe()"
   ]
  },
  {
   "cell_type": "markdown",
   "metadata": {},
   "source": [
    "#### Data Correlation\n",
    "*Data Correlation* dapat membantu kita melihat hubungan antar variable data, sehingga kita dapat memilih variable yang baik digunakan saat mengolah data."
   ]
  },
  {
   "cell_type": "code",
   "execution_count": 21,
   "metadata": {},
   "outputs": [
    {
     "data": {
      "text/html": [
       "<div>\n",
       "<style scoped>\n",
       "    .dataframe tbody tr th:only-of-type {\n",
       "        vertical-align: middle;\n",
       "    }\n",
       "\n",
       "    .dataframe tbody tr th {\n",
       "        vertical-align: top;\n",
       "    }\n",
       "\n",
       "    .dataframe thead th {\n",
       "        text-align: right;\n",
       "    }\n",
       "</style>\n",
       "<table border=\"1\" class=\"dataframe\">\n",
       "  <thead>\n",
       "    <tr style=\"text-align: right;\">\n",
       "      <th></th>\n",
       "      <th>kepuasan_kerja</th>\n",
       "      <th>evaluasi</th>\n",
       "      <th>proyek</th>\n",
       "      <th>kerja_bulanan</th>\n",
       "      <th>durasi_kerja</th>\n",
       "      <th>kecelakaan_kerja</th>\n",
       "      <th>promosi</th>\n",
       "      <th>divisi</th>\n",
       "      <th>gaji</th>\n",
       "      <th>status</th>\n",
       "    </tr>\n",
       "  </thead>\n",
       "  <tbody>\n",
       "    <tr>\n",
       "      <th>kepuasan_kerja</th>\n",
       "      <td>1.00</td>\n",
       "      <td>-2.72e-02</td>\n",
       "      <td>-3.96e-01</td>\n",
       "      <td>-0.18</td>\n",
       "      <td>-0.15</td>\n",
       "      <td>3.90e-02</td>\n",
       "      <td>2.30e-02</td>\n",
       "      <td>1.05e-02</td>\n",
       "      <td>2.61e-02</td>\n",
       "      <td>-0.31</td>\n",
       "    </tr>\n",
       "    <tr>\n",
       "      <th>evaluasi</th>\n",
       "      <td>-0.03</td>\n",
       "      <td>1.00e+00</td>\n",
       "      <td>5.79e-02</td>\n",
       "      <td>0.10</td>\n",
       "      <td>0.09</td>\n",
       "      <td>-4.21e-02</td>\n",
       "      <td>-1.86e-02</td>\n",
       "      <td>2.79e-03</td>\n",
       "      <td>-5.60e-02</td>\n",
       "      <td>0.32</td>\n",
       "    </tr>\n",
       "    <tr>\n",
       "      <th>proyek</th>\n",
       "      <td>-0.40</td>\n",
       "      <td>5.79e-02</td>\n",
       "      <td>1.00e+00</td>\n",
       "      <td>0.17</td>\n",
       "      <td>0.16</td>\n",
       "      <td>-5.61e-02</td>\n",
       "      <td>-2.14e-02</td>\n",
       "      <td>-8.59e-03</td>\n",
       "      <td>-5.67e-02</td>\n",
       "      <td>0.45</td>\n",
       "    </tr>\n",
       "    <tr>\n",
       "      <th>kerja_bulanan</th>\n",
       "      <td>-0.18</td>\n",
       "      <td>1.00e-01</td>\n",
       "      <td>1.69e-01</td>\n",
       "      <td>1.00</td>\n",
       "      <td>0.09</td>\n",
       "      <td>-4.65e-02</td>\n",
       "      <td>-1.36e-02</td>\n",
       "      <td>-1.36e-02</td>\n",
       "      <td>-4.06e-02</td>\n",
       "      <td>0.40</td>\n",
       "    </tr>\n",
       "    <tr>\n",
       "      <th>durasi_kerja</th>\n",
       "      <td>-0.15</td>\n",
       "      <td>9.15e-02</td>\n",
       "      <td>1.64e-01</td>\n",
       "      <td>0.09</td>\n",
       "      <td>1.00</td>\n",
       "      <td>-1.04e-02</td>\n",
       "      <td>5.70e-02</td>\n",
       "      <td>-1.22e-02</td>\n",
       "      <td>3.42e-02</td>\n",
       "      <td>0.28</td>\n",
       "    </tr>\n",
       "    <tr>\n",
       "      <th>kecelakaan_kerja</th>\n",
       "      <td>0.04</td>\n",
       "      <td>-4.21e-02</td>\n",
       "      <td>-5.61e-02</td>\n",
       "      <td>-0.05</td>\n",
       "      <td>-0.01</td>\n",
       "      <td>1.00e+00</td>\n",
       "      <td>4.02e-02</td>\n",
       "      <td>2.13e-02</td>\n",
       "      <td>3.93e-03</td>\n",
       "      <td>-0.13</td>\n",
       "    </tr>\n",
       "    <tr>\n",
       "      <th>promosi</th>\n",
       "      <td>0.02</td>\n",
       "      <td>-1.86e-02</td>\n",
       "      <td>-2.14e-02</td>\n",
       "      <td>-0.01</td>\n",
       "      <td>0.06</td>\n",
       "      <td>4.02e-02</td>\n",
       "      <td>1.00e+00</td>\n",
       "      <td>8.09e-03</td>\n",
       "      <td>1.06e-01</td>\n",
       "      <td>-0.06</td>\n",
       "    </tr>\n",
       "    <tr>\n",
       "      <th>divisi</th>\n",
       "      <td>0.01</td>\n",
       "      <td>2.79e-03</td>\n",
       "      <td>-8.59e-03</td>\n",
       "      <td>-0.01</td>\n",
       "      <td>-0.01</td>\n",
       "      <td>2.13e-02</td>\n",
       "      <td>8.09e-03</td>\n",
       "      <td>1.00e+00</td>\n",
       "      <td>2.50e-02</td>\n",
       "      <td>-0.03</td>\n",
       "    </tr>\n",
       "    <tr>\n",
       "      <th>gaji</th>\n",
       "      <td>0.03</td>\n",
       "      <td>-5.60e-02</td>\n",
       "      <td>-5.67e-02</td>\n",
       "      <td>-0.04</td>\n",
       "      <td>0.03</td>\n",
       "      <td>3.93e-03</td>\n",
       "      <td>1.06e-01</td>\n",
       "      <td>2.50e-02</td>\n",
       "      <td>1.00e+00</td>\n",
       "      <td>-0.14</td>\n",
       "    </tr>\n",
       "    <tr>\n",
       "      <th>status</th>\n",
       "      <td>-0.31</td>\n",
       "      <td>3.20e-01</td>\n",
       "      <td>4.45e-01</td>\n",
       "      <td>0.40</td>\n",
       "      <td>0.28</td>\n",
       "      <td>-1.32e-01</td>\n",
       "      <td>-5.78e-02</td>\n",
       "      <td>-3.09e-02</td>\n",
       "      <td>-1.39e-01</td>\n",
       "      <td>1.00</td>\n",
       "    </tr>\n",
       "  </tbody>\n",
       "</table>\n",
       "</div>"
      ],
      "text/plain": [
       "                  kepuasan_kerja  evaluasi    proyek  kerja_bulanan  \\\n",
       "kepuasan_kerja              1.00 -2.72e-02 -3.96e-01          -0.18   \n",
       "evaluasi                   -0.03  1.00e+00  5.79e-02           0.10   \n",
       "proyek                     -0.40  5.79e-02  1.00e+00           0.17   \n",
       "kerja_bulanan              -0.18  1.00e-01  1.69e-01           1.00   \n",
       "durasi_kerja               -0.15  9.15e-02  1.64e-01           0.09   \n",
       "kecelakaan_kerja            0.04 -4.21e-02 -5.61e-02          -0.05   \n",
       "promosi                     0.02 -1.86e-02 -2.14e-02          -0.01   \n",
       "divisi                      0.01  2.79e-03 -8.59e-03          -0.01   \n",
       "gaji                        0.03 -5.60e-02 -5.67e-02          -0.04   \n",
       "status                     -0.31  3.20e-01  4.45e-01           0.40   \n",
       "\n",
       "                  durasi_kerja  kecelakaan_kerja   promosi    divisi  \\\n",
       "kepuasan_kerja           -0.15          3.90e-02  2.30e-02  1.05e-02   \n",
       "evaluasi                  0.09         -4.21e-02 -1.86e-02  2.79e-03   \n",
       "proyek                    0.16         -5.61e-02 -2.14e-02 -8.59e-03   \n",
       "kerja_bulanan             0.09         -4.65e-02 -1.36e-02 -1.36e-02   \n",
       "durasi_kerja              1.00         -1.04e-02  5.70e-02 -1.22e-02   \n",
       "kecelakaan_kerja         -0.01          1.00e+00  4.02e-02  2.13e-02   \n",
       "promosi                   0.06          4.02e-02  1.00e+00  8.09e-03   \n",
       "divisi                   -0.01          2.13e-02  8.09e-03  1.00e+00   \n",
       "gaji                      0.03          3.93e-03  1.06e-01  2.50e-02   \n",
       "status                    0.28         -1.32e-01 -5.78e-02 -3.09e-02   \n",
       "\n",
       "                      gaji  status  \n",
       "kepuasan_kerja    2.61e-02   -0.31  \n",
       "evaluasi         -5.60e-02    0.32  \n",
       "proyek           -5.67e-02    0.45  \n",
       "kerja_bulanan    -4.06e-02    0.40  \n",
       "durasi_kerja      3.42e-02    0.28  \n",
       "kecelakaan_kerja  3.93e-03   -0.13  \n",
       "promosi           1.06e-01   -0.06  \n",
       "divisi            2.50e-02   -0.03  \n",
       "gaji              1.00e+00   -0.14  \n",
       "status           -1.39e-01    1.00  "
      ]
     },
     "execution_count": 21,
     "metadata": {},
     "output_type": "execute_result"
    }
   ],
   "source": [
    "# Load Library\n",
    "from pandas import set_option\n",
    "\n",
    "# correlation \n",
    "set_option('precision', 2)\n",
    "\n",
    "dataset.corr(method='pearson')"
   ]
  },
  {
   "cell_type": "markdown",
   "metadata": {},
   "source": [
    "***Correlation*** memberikan indikasi tentang bagaimana perubahan terkait antara dua *variable*. Jika dua variabel berubah ke arah yang sama mereka berkorelasi positif. Jika mereka berubah dalam arah yang berlawanan bersama-sama (satu naik, satu turun), maka mereka berkorelasi negatif. \n",
    "\n",
    "*Correlation score* dapat dihitung Anda dapat menghitung korelasi antara setiap pasang variable dan disajikan dalam bentuk matrix (*Correlation Matrix*).\n",
    "\n",
    "Berdasarkan tabel *Correlation Matrix* tersebut dapat dilihat tentang *variable* mana yang memiliki *correlation* tinggi satu sama lain. \n",
    "\n",
    "Hal ini perlu diperhatikan karena algoritma *machine learning* seperti ***linear regression*** dan ***logistic regression*** dapat memiliki kinerja yang buruk jika ada input variable yang sangat berkorelasi dalam data tersebut."
   ]
  },
  {
   "cell_type": "markdown",
   "metadata": {},
   "source": [
    "## 1.3.2. Data Visualizations \n",
    "### a) Unimodal Data Visualizations\n",
    "Pada bagian ini akan diperlihatkan visualisasi dari masing-masing *variable* dalam dataset. Visualisasi ini dapat  berguna untuk melihat data dengan berbagai sudut pandang yang dapat membantu memberikan ide terhadap analisa data selanjutnya. \n",
    "\n",
    "#### Histogram"
   ]
  },
  {
   "cell_type": "code",
   "execution_count": 18,
   "metadata": {},
   "outputs": [
    {
     "data": {
      "image/png": "[encoded data removed]",
      "text/plain": [
       "<Figure size 432x288 with 12 Axes>"
      ]
     },
     "metadata": {
      "needs_background": "light"
     },
     "output_type": "display_data"
    }
   ],
   "source": [
    "# Load Library\n",
    "from matplotlib import pyplot\n",
    "\n",
    "# Histogram\n",
    "dataset.hist(sharex=False, sharey=False, xlabelsize=1, ylabelsize=1)\n",
    "pyplot.show()"
   ]
  },
  {
   "cell_type": "markdown",
   "metadata": {},
   "source": [
    "Pada gambar histogram di atas, terlihat bahwa input variable memiliki distribusi data yang beragam."
   ]
  },
  {
   "cell_type": "markdown",
   "metadata": {},
   "source": [
    "#### Density Plots"
   ]
  },
  {
   "cell_type": "code",
   "execution_count": 22,
   "metadata": {
    "scrolled": true
   },
   "outputs": [
    {
     "data": {
      "image/png": "[encoded data removed]",
      "text/plain": [
       "<Figure size 432x288 with 12 Axes>"
      ]
     },
     "metadata": {
      "needs_background": "light"
     },
     "output_type": "display_data"
    }
   ],
   "source": [
    "# Load Library\n",
    "from matplotlib import pyplot\n",
    "\n",
    "# Univariate Density Plots \n",
    "dataset.plot(kind='density', subplots=True, layout=(3,4), sharex=False, legend=False, fontsize=1) \n",
    "pyplot.show()"
   ]
  },
  {
   "cell_type": "markdown",
   "metadata": {},
   "source": [
    "#### Box and Whisker Plots"
   ]
  },
  {
   "cell_type": "code",
   "execution_count": 13,
   "metadata": {},
   "outputs": [
    {
     "data": {
      "image/png": "[encoded data removed]",
      "text/plain": [
       "<Figure size 432x288 with 12 Axes>"
      ]
     },
     "metadata": {
      "needs_background": "light"
     },
     "output_type": "display_data"
    }
   ],
   "source": [
    "# Load Library\n",
    "from matplotlib import pyplot\n",
    "\n",
    "# Box and Whisker Plots\n",
    "dataset.plot(kind='box', subplots=True, layout=(3,4), sharex=False, sharey=False, fontsize=8)\n",
    "pyplot.show()"
   ]
  },
  {
   "cell_type": "markdown",
   "metadata": {},
   "source": [
    "Box and Whisker Plots dapat membantu menunjukkan data pencilan *(data outlier)* dengan lebih jelas, seperti data ***kepuasan_kerja***."
   ]
  },
  {
   "cell_type": "markdown",
   "metadata": {},
   "source": [
    "### b) Multimodal Data Visualizations\n",
    "\n",
    "***Multimodal Data Visualizations*** merupakan visualisasi interaksi antar variable dalam dataset. Salah satu *Multimodal Data Visualizations* yang terbaik adalah  ***scatter plot matrix***.\n",
    "\n",
    "#### Scatter Plot Matrix\n",
    "Variable yang memiliki korelasi tinggi (baik positif maupun negatif), akan terlihat dari kepadatan gambar."
   ]
  },
  {
   "cell_type": "markdown",
   "metadata": {},
   "source": [
    "#### Correlation Matrix"
   ]
  },
  {
   "cell_type": "code",
   "execution_count": 16,
   "metadata": {},
   "outputs": [
    {
     "data": {
      "image/png": "[encoded data removed]",
      "text/plain": [
       "<Figure size 432x288 with 2 Axes>"
      ]
     },
     "metadata": {
      "needs_background": "light"
     },
     "output_type": "display_data"
    }
   ],
   "source": [
    "# Load Library\n",
    "from matplotlib import pyplot\n",
    "from pandas import read_csv \n",
    "import numpy as np\n",
    "\n",
    "# Load Dataset\n",
    "dataset = pd.read_csv(\"datahr.csv\")\n",
    "nama = ['PUAS', 'EVAL', 'PROJ', 'KB', 'DK', 'KK', 'PROM', 'DIV', 'GAJI', 'STAT'] \n",
    "\n",
    "# Correlation Matrix Plot \n",
    "fig = pyplot.figure() \n",
    "ax = fig.add_subplot(111) \n",
    "cax = ax.matshow(dataset.corr(), vmin=-1, vmax=1, interpolation='none') \n",
    "fig.colorbar(cax) \n",
    "ticks = np.arange(0,10,1) \n",
    "ax.set_xticks(ticks) \n",
    "ax.set_yticks(ticks) \n",
    "ax.set_xticklabels(nama) \n",
    "ax.set_yticklabels(nama) \n",
    "pyplot.show()"
   ]
  },
  {
   "cell_type": "markdown",
   "metadata": {},
   "source": [
    "Warna kuning terang menunjukkan korelasi positif sedangkan warna hijau gelap menunjukkan korelasi negatif. \n",
    "\n",
    "Variable dengan warna kuning terang atau hijau gelap dapat menjadi kandidat variable yang perlu dihapus untuk lebih meningkatkan akurasi model nantinya."
   ]
  },
  {
   "cell_type": "markdown",
   "metadata": {},
   "source": [
    "#### Idea Summary\n",
    "Ada beberapa persiapan data yang perlu dilakukan guna meningkatkan akurasi model prediksi di langkah berikutnya. Sejauh ini akan pantas untuk dicoba:\n",
    "\n",
    "- Feature Selection dan menghapus atribut yang paling berkorelasi tinggi (positif dan negatif).\n",
    "- Normalisasi dataset untuk mengurangi pengaruh skala yang berbeda.\n",
    "- Standarisasi dataset untuk mengurangi pengaruh dari distribusi yang berbeda.\n",
    "\n",
    "Data eskplorasi lain yang mungkin dilakukan adalah *data binning* (***discretization***). Hal ini juga dapat meningkatkan akurasi untuk ***decision tree algorithm***."
   ]
  }
 ],
 "metadata": {
  "kernelspec": {
   "display_name": "Python 3",
   "language": "python",
   "name": "python3"
  },
  "language_info": {
   "codemirror_mode": {
    "name": "ipython",
    "version": 3
   },
   "file_extension": ".py",
   "mimetype": "text/x-python",
   "name": "python",
   "nbconvert_exporter": "python",
   "pygments_lexer": "ipython3",
   "version": "3.7.3"
  }
 },
 "nbformat": 4,
 "nbformat_minor": 2
}
